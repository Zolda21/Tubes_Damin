{
 "cells": [
  {
   "cell_type": "markdown",
   "id": "50cc6ba8",
   "metadata": {},
   "source": [
    "# Import Library"
   ]
  },
  {
   "cell_type": "code",
   "execution_count": 13,
   "id": "a3272e33",
   "metadata": {},
   "outputs": [],
   "source": [
    "import pandas as pd\n",
    "import numpy as np\n",
    "from sklearn.preprocessing import StandardScaler, OneHotEncoder\n",
    "from sklearn.compose import ColumnTransformer\n",
    "from sklearn.pipeline import Pipeline\n",
    "import sys\n",
    "import joblib"
   ]
  },
  {
   "cell_type": "markdown",
   "id": "b615ccd3",
   "metadata": {},
   "source": [
    "# Fungsi Pembantu: Mengelompokkan Kategori Langka"
   ]
  },
  {
   "cell_type": "code",
   "execution_count": 14,
   "id": "034b6c1e",
   "metadata": {},
   "outputs": [],
   "source": [
    "def group_rare_categories(df, column_name, top_n=50, other_category_name=None):\n",
    "    \"\"\"\n",
    "    Mengelompokkan kategori yang jarang muncul dalam sebuah kolom\n",
    "    menjadi satu kategori 'Other_column_name'.\n",
    "\n",
    "    Args:\n",
    "        df (pd.DataFrame): DataFrame input.\n",
    "        column_name (str): Nama kolom kategorikal yang akan diproses.\n",
    "        top_n (int): Jumlah kategori teratas yang akan dipertahankan.\n",
    "                     Semua kategori lain akan digabungkan.\n",
    "        other_category_name (str, optional): Nama kategori untuk nilai yang digabungkan.\n",
    "                                             Defaultnya adalah f'Other_{column_name}'.\n",
    "    Returns:\n",
    "        pd.DataFrame: DataFrame dengan kolom yang sudah dikelompokkan.\n",
    "    \"\"\"\n",
    "    if column_name not in df.columns:\n",
    "        print(f\"Peringatan: Kolom '{column_name}' tidak ditemukan untuk pengelompokan kategori langka.\")\n",
    "        return df\n",
    "\n",
    "    if other_category_name is None:\n",
    "        other_category_name = f'Other_{column_name}'\n",
    "\n",
    "    value_counts = df[column_name].value_counts()\n",
    "    top_categories = value_counts.nlargest(top_n).index\n",
    "    df[column_name] = df[column_name].apply(lambda x: x if x in top_categories else other_category_name)\n",
    "    \n",
    "    print(f\"  - Kolom '{column_name}': Kardinalitas dikurangi menjadi {df[column_name].nunique()} setelah mengelompokkan kategori langka (Top {top_n}).\")\n",
    "    return df"
   ]
  },
  {
   "cell_type": "markdown",
   "id": "02defefe",
   "metadata": {},
   "source": [
    "# DEFINISI JALUR FILE INPUT DAN OUTPUT"
   ]
  },
  {
   "cell_type": "code",
   "execution_count": 15,
   "id": "e9fb8712",
   "metadata": {},
   "outputs": [
    {
     "name": "stdout",
     "output_type": "stream",
     "text": [
      "Jalur Input CSV: ../data/base_processed_data.csv\n",
      "Jalur Output CSV: ../data/unsupervised_ready_data.csv\n",
      "Jalur Output Preprocessor: ../models/preprocessor_unsupervised.pkl\n"
     ]
    }
   ],
   "source": [
    "input_csv_base = '../data/base_processed_data.csv'\n",
    "output_csv_unsupervised = '../data/unsupervised_ready_data.csv'\n",
    "preprocessor_output_path_unsupervised = '../models/preprocessor_unsupervised.pkl'\n",
    "\n",
    "print(f\"Jalur Input CSV: {input_csv_base}\")\n",
    "print(f\"Jalur Output CSV: {output_csv_unsupervised}\")\n",
    "print(f\"Jalur Output Preprocessor: {preprocessor_output_path_unsupervised}\")"
   ]
  },
  {
   "cell_type": "markdown",
   "id": "c79d2317",
   "metadata": {},
   "source": [
    "# Muat Data Dasar dan Analisis Kardinalitas Awal"
   ]
  },
  {
   "cell_type": "code",
   "execution_count": 16,
   "id": "f12097c2",
   "metadata": {},
   "outputs": [
    {
     "name": "stdout",
     "output_type": "stream",
     "text": [
      "--- MEMULAI PROSES PREPROCESSING UNSUPERVISED ---\n",
      "Python Executable: c:\\Users\\alyar\\AppData\\Local\\Programs\\Python\\Python313\\python.exe\n",
      "Versi Pandas: 2.2.3\n",
      "Versi NumPy: 2.2.6\n",
      "\n",
      "Memuat data dasar dari: ../data/base_processed_data.csv\n",
      "Data dasar dimuat. Ukuran: (558837, 14)\n",
      "\n",
      "Kardinalitas kolom kategorikal sebelum pengelompokan:\n",
      "Kolom 'make': 96 nilai unik.\n",
      "Kolom 'model': 973 nilai unik.\n",
      "Kolom 'trim': 1963 nilai unik.\n",
      "Kolom 'body': 87 nilai unik.\n",
      "Kolom 'transmission': 4 nilai unik.\n",
      "Kolom 'state': 64 nilai unik.\n",
      "Kolom 'color': 46 nilai unik.\n",
      "Kolom 'interior': 17 nilai unik.\n",
      "Kolom 'seller': 14263 nilai unik.\n"
     ]
    }
   ],
   "source": [
    "print(f\"--- MEMULAI PROSES PREPROCESSING UNSUPERVISED ---\")\n",
    "print(f\"Python Executable: {sys.executable}\")\n",
    "print(f\"Versi Pandas: {pd.__version__}\")\n",
    "print(f\"Versi NumPy: {np.__version__}\")\n",
    "\n",
    "print(f\"\\nMemuat data dasar dari: {input_csv_base}\")\n",
    "df = pd.read_csv(input_csv_base)\n",
    "print(f\"Data dasar dimuat. Ukuran: {df.shape}\")\n",
    "\n",
    "print(\"\\nKardinalitas kolom kategorikal sebelum pengelompokan:\")\n",
    "for col in df.select_dtypes(include='object').columns:\n",
    "    print(f\"Kolom '{col}': {df[col].nunique()} nilai unik.\")"
   ]
  },
  {
   "cell_type": "markdown",
   "id": "fff75506",
   "metadata": {},
   "source": [
    "# Identifikasi Kolom"
   ]
  },
  {
   "cell_type": "code",
   "execution_count": null,
   "id": "4e9f3a87",
   "metadata": {},
   "outputs": [
    {
     "name": "stdout",
     "output_type": "stream",
     "text": [
      "\n",
      "Fitur yang dipilih untuk Clustering: ['mmr', 'sellingprice', 'year', 'odometer', 'condition', 'body', 'make']\n",
      "Kolom Numerik untuk Clustering: ['mmr', 'sellingprice', 'year', 'odometer', 'condition']\n",
      "Kolom Kategorikal untuk Clustering: ['body', 'make']\n",
      "\n",
      "DEBUG_INFO: Shape of df_unsupervised sebelum transformasi: (558837, 7)\n",
      "DEBUG_INFO: Kolom di df_unsupervised: ['mmr', 'sellingprice', 'year', 'odometer', 'condition', 'body', 'make']\n",
      "DEBUG_INFO: Dtypes of df_unsupervised: \n",
      "mmr             float64\n",
      "sellingprice    float64\n",
      "year              int64\n",
      "odometer        float64\n",
      "condition       float64\n",
      "body             object\n",
      "make             object\n",
      "dtype: object\n"
     ]
    }
   ],
   "source": [
    "numerical_cols_raw = df.select_dtypes(include=np.number).columns.tolist() \n",
    "categorical_cols_raw = df.select_dtypes(include='object').columns.tolist() \n",
    "\n",
    "selected_features_for_clustering = ['mmr', 'sellingprice', 'year', 'odometer', 'condition', 'body', 'make']\n",
    "\n",
    "selected_features_for_clustering = [f for f in selected_features_for_clustering if f in df.columns]\n",
    "\n",
    "df_unsupervised = df[selected_features_for_clustering].copy()\n",
    "\n",
    "numerical_cols_unsupervised = [col for col in selected_features_for_clustering if col in numerical_cols_raw]\n",
    "categorical_cols_unsupervised = [col for col in selected_features_for_clustering if col in categorical_cols_raw]\n",
    "\n",
    "print(f\"\\nFitur yang dipilih untuk Clustering: {selected_features_for_clustering}\")\n",
    "print(f\"Kolom Numerik untuk Clustering: {numerical_cols_unsupervised}\")\n",
    "print(f\"Kolom Kategorikal untuk Clustering: {categorical_cols_unsupervised}\")\n",
    "\n",
    "print(f\"\\nDEBUG_INFO: Shape of df_unsupervised sebelum transformasi: {df_unsupervised.shape}\")\n",
    "print(f\"DEBUG_INFO: Kolom di df_unsupervised: {df_unsupervised.columns.tolist()}\")\n",
    "print(f\"DEBUG_INFO: Dtypes of df_unsupervised: \\n{df_unsupervised.dtypes}\")"
   ]
  },
  {
   "cell_type": "markdown",
   "id": "a8ec8b9b",
   "metadata": {},
   "source": [
    "# Pengelompokan Kategori Langka"
   ]
  },
  {
   "cell_type": "code",
   "execution_count": null,
   "id": "e7d7ea10",
   "metadata": {},
   "outputs": [
    {
     "name": "stdout",
     "output_type": "stream",
     "text": [
      "\n",
      "Melakukan pengelompokan kategori langka secara LEBIH AGRESIF untuk unsupervised...\n",
      "  - Kolom 'make': Kardinalitas dikurangi menjadi 26 setelah mengelompokkan kategori langka (Top 25).\n",
      "  - Kolom 'body': Kardinalitas dikurangi menjadi 11 setelah mengelompokkan kategori langka (Top 10).\n",
      "\n",
      "Kardinalitas kolom kategorikal setelah pengelompokan:\n",
      "Kolom 'make': 26 nilai unik.\n",
      "Kolom 'model': 973 nilai unik.\n",
      "Kolom 'trim': 1963 nilai unik.\n",
      "Kolom 'body': 11 nilai unik.\n",
      "Kolom 'transmission': 4 nilai unik.\n",
      "Kolom 'state': 64 nilai unik.\n",
      "Kolom 'color': 46 nilai unik.\n",
      "Kolom 'interior': 17 nilai unik.\n",
      "Kolom 'seller': 14263 nilai unik.\n"
     ]
    }
   ],
   "source": [
    "print(\"\\nMelakukan pengelompokan kategori langka secara LEBIH AGRESIF untuk unsupervised...\")\n",
    "\n",
    "# Hanya terapkan pengelompokan pada fitur yang akan digunakan untuk unsupervised\n",
    "# Sesuaikan top_n sesuai kebutuhan untuk kolom 'make' dan 'body'\n",
    "df = group_rare_categories(df, 'make', top_n=25) # Dari 96 menjadi ~25+1\n",
    "df = group_rare_categories(df, 'body', top_n=10)  # Dari 87 menjadi ~10+1\n",
    "\n",
    "print(\"\\nKardinalitas kolom kategorikal setelah pengelompokan:\")\n",
    "for col in df.select_dtypes(include='object').columns:\n",
    "    print(f\"Kolom '{col}': {df[col].nunique()} nilai unik.\")"
   ]
  },
  {
   "cell_type": "markdown",
   "id": "a6b8340a",
   "metadata": {},
   "source": [
    "# Seleksi Fitur untuk Unsupervised dan Identifikasi Kolom"
   ]
  },
  {
   "cell_type": "code",
   "execution_count": null,
   "id": "8ecfab86",
   "metadata": {},
   "outputs": [
    {
     "name": "stdout",
     "output_type": "stream",
     "text": [
      "\n",
      "DataFrame untuk unsupervised learning setelah seleksi fitur: (558837, 7)\n",
      "Kolom yang dipilih: ['mmr', 'sellingprice', 'year', 'odometer', 'condition', 'body', 'make']\n",
      "\n",
      "Kolom Numerik untuk Unsupervised: ['mmr', 'sellingprice', 'year', 'odometer', 'condition']\n",
      "Kolom Kategorikal untuk Unsupervised: ['body', 'make']\n",
      "\n",
      "DEBUG_INFO: Dtypes of df_unsupervised: \n",
      "mmr             float64\n",
      "sellingprice    float64\n",
      "year              int64\n",
      "odometer        float64\n",
      "condition       float64\n",
      "body             object\n",
      "make             object\n",
      "dtype: object\n"
     ]
    }
   ],
   "source": [
    "# --- Pilih Fitur yang Relevan untuk Unsupervised Learning ---\n",
    "selected_features_for_unsupervised = [\n",
    "    'mmr', 'sellingprice', 'year', 'odometer', 'condition',\n",
    "    'body', 'make'\n",
    "]\n",
    "\n",
    "df_unsupervised = df[selected_features_for_unsupervised].copy()\n",
    "\n",
    "print(f\"\\nDataFrame untuk unsupervised learning setelah seleksi fitur: {df_unsupervised.shape}\")\n",
    "print(f\"Kolom yang dipilih: {df_unsupervised.columns.tolist()}\")\n",
    "\n",
    "# --- Identifikasi Kolom Numerik dan Kategorikal dalam Fitur Terpilih ---\n",
    "# sellingprice di sini adalah fitur, bukan target\n",
    "unsupervised_numerical_cols = ['mmr', 'sellingprice', 'year', 'odometer', 'condition']\n",
    "unsupervised_categorical_cols = ['body', 'make']\n",
    "\n",
    "print(f\"\\nKolom Numerik untuk Unsupervised: {unsupervised_numerical_cols}\")\n",
    "print(f\"Kolom Kategorikal untuk Unsupervised: {unsupervised_categorical_cols}\")\n",
    "\n",
    "print(f\"\\nDEBUG_INFO: Dtypes of df_unsupervised: \\n{df_unsupervised.dtypes}\")"
   ]
  },
  {
   "cell_type": "markdown",
   "id": "b3604cf4",
   "metadata": {},
   "source": [
    "# Buat dan Terapkan ColumnTransformer untuk Unsupervised"
   ]
  },
  {
   "cell_type": "code",
   "execution_count": null,
   "id": "a45dd96f",
   "metadata": {},
   "outputs": [
    {
     "name": "stdout",
     "output_type": "stream",
     "text": [
      "\n",
      "Menerapkan transformasi fitur dengan ColumnTransformer untuk unsupervised...\n",
      "DEBUG_INFO: Shape of X_unsupervised_processed_array setelah preprocessor: (558837, 40)\n"
     ]
    }
   ],
   "source": [
    "# --- Buat Preprocessing Pipeline dengan ColumnTransformer untuk Unsupervised ---\n",
    "numeric_transformer = Pipeline(steps=[\n",
    "    ('scaler', StandardScaler())\n",
    "])\n",
    "\n",
    "categorical_transformer = Pipeline(steps=[\n",
    "    ('onehot', OneHotEncoder(handle_unknown='ignore', drop='first'))\n",
    "])\n",
    "\n",
    "preprocessor_unsupervised = ColumnTransformer(\n",
    "    transformers=[\n",
    "        ('num', numeric_transformer, unsupervised_numerical_cols),\n",
    "        ('cat', categorical_transformer, unsupervised_categorical_cols)\n",
    "    ],\n",
    "    remainder='passthrough' \n",
    ")\n",
    "\n",
    "# --- Terapkan Transformasi Fitur ---\n",
    "print(\"\\nMenerapkan transformasi fitur dengan ColumnTransformer untuk unsupervised...\")\n",
    "X_unsupervised_processed_array = preprocessor_unsupervised.fit_transform(df_unsupervised)\n",
    "\n",
    "print(f\"DEBUG_INFO: Shape of X_unsupervised_processed_array setelah preprocessor: {X_unsupervised_processed_array.shape}\")"
   ]
  },
  {
   "cell_type": "markdown",
   "id": "5ec11b70",
   "metadata": {},
   "source": [
    "# Konversi ke Dense Array dan Dapatkan Nama Kolom"
   ]
  },
  {
   "cell_type": "code",
   "execution_count": 21,
   "id": "4f7d13f7",
   "metadata": {},
   "outputs": [
    {
     "name": "stdout",
     "output_type": "stream",
     "text": [
      "\n",
      "Mengonversi sparse matrix ke dense array (jika diperlukan)...\n",
      "DEBUG_INFO: Shape of X_unsupervised_processed_dense setelah konversi: (558837, 40)\n",
      "\n",
      "DEBUG_INFO: Jumlah scaled_feature_names: 5\n",
      "DEBUG_INFO: Jumlah ohe_feature_names: 35\n",
      "DEBUG_INFO: Jumlah remainder_feature_names: 0\n",
      "DEBUG_INFO: Total processed_unsupervised_feature_names: 40\n"
     ]
    }
   ],
   "source": [
    "# --- Konversi Sparse Matrix ke Dense Array ---\n",
    "print(\"\\nMengonversi sparse matrix ke dense array (jika diperlukan)...\")\n",
    "if hasattr(X_unsupervised_processed_array, \"toarray\"):\n",
    "    X_unsupervised_processed_dense = X_unsupervised_processed_array.toarray()\n",
    "else:\n",
    "    X_unsupervised_processed_dense = X_unsupervised_processed_array\n",
    "print(f\"DEBUG_INFO: Shape of X_unsupervised_processed_dense setelah konversi: {X_unsupervised_processed_dense.shape}\")\n",
    "\n",
    "# --- Dapatkan Nama Kolom Setelah Preprocessing ---\n",
    "scaled_feature_names = unsupervised_numerical_cols\n",
    "ohe_feature_names = preprocessor_unsupervised.named_transformers_['cat'].named_steps['onehot'].get_feature_names_out(unsupervised_categorical_cols)\n",
    "\n",
    "# Pastikan tidak ada kolom yang tidak ditransformasi jika remainder='passthrough'\n",
    "all_transformed_by_name = set(unsupervised_numerical_cols + unsupervised_categorical_cols)\n",
    "remainder_feature_names = [col for col in df_unsupervised.columns if col not in all_transformed_by_name]\n",
    "\n",
    "\n",
    "processed_unsupervised_feature_names = list(scaled_feature_names) + list(ohe_feature_names) + list(remainder_feature_names)\n",
    "\n",
    "print(f\"\\nDEBUG_INFO: Jumlah scaled_feature_names: {len(scaled_feature_names)}\")\n",
    "print(f\"DEBUG_INFO: Jumlah ohe_feature_names: {len(ohe_feature_names)}\")\n",
    "print(f\"DEBUG_INFO: Jumlah remainder_feature_names: {len(remainder_feature_names)}\")\n",
    "print(f\"DEBUG_INFO: Total processed_unsupervised_feature_names: {len(processed_unsupervised_feature_names)}\")\n",
    "\n",
    "# --- Validasi Akhir sebelum membuat DataFrame ---\n",
    "if X_unsupervised_processed_dense.shape[1] != len(processed_unsupervised_feature_names):\n",
    "    print(f\"\\n!!! PERINGATAN: Jumlah kolom tidak sesuai !!!\")\n",
    "    raise ValueError(\"Jumlah kolom dalam array yang diproses tidak sesuai dengan jumlah nama kolom yang diberikan.\")"
   ]
  },
  {
   "cell_type": "markdown",
   "id": "bb60f31b",
   "metadata": {},
   "source": [
    "# Buat DataFrame, Optimasi Tipe Data, dan Simpan Hasil"
   ]
  },
  {
   "cell_type": "code",
   "execution_count": 22,
   "id": "3a562192",
   "metadata": {},
   "outputs": [
    {
     "name": "stdout",
     "output_type": "stream",
     "text": [
      "\n",
      "Melakukan optimasi tipe data untuk mengurangi ukuran memori dan file...\n",
      "Ukuran memori awal DataFrame: 170.54 MB\n",
      "Ukuran memori akhir DataFrame: 85.27 MB\n",
      "Penghematan memori: 50.00%\n"
     ]
    }
   ],
   "source": [
    "# Buat DataFrame dari array fitur yang telah diproses\n",
    "df_unsupervised_processed = pd.DataFrame(X_unsupervised_processed_dense, columns=processed_unsupervised_feature_names)\n",
    "\n",
    "# --- OPTIMASI TIPE DATA UNTUK MENGURANGI UKURAN FILE ---\n",
    "print(\"\\nMelakukan optimasi tipe data untuk mengurangi ukuran memori dan file...\")\n",
    "initial_memory_usage = df_unsupervised_processed.memory_usage(deep=True).sum() / (1024**2) # MB\n",
    "print(f\"Ukuran memori awal DataFrame: {initial_memory_usage:.2f} MB\")\n",
    "\n",
    "for col in df_unsupervised_processed.columns:\n",
    "    if df_unsupervised_processed[col].dtype == 'float64':\n",
    "        df_unsupervised_processed[col] = df_unsupervised_processed[col].astype('float32')\n",
    "    elif df_unsupervised_processed[col].dtype == 'int64':\n",
    "        min_val = df_unsupervised_processed[col].min()\n",
    "        max_val = df_unsupervised_processed[col].max()\n",
    "        if min_val >= np.iinfo(np.int8).min and max_val <= np.iinfo(np.int8).max:\n",
    "            df_unsupervised_processed[col] = df_unsupervised_processed[col].astype('int8')\n",
    "        elif min_val >= np.iinfo(np.int16).min and max_val <= np.iinfo(np.int16).max:\n",
    "            df_unsupervised_processed[col] = df_unsupervised_processed[col].astype('int16')\n",
    "        elif min_val >= np.iinfo(np.int32).min and max_val <= np.iinfo(np.int32).max:\n",
    "            df_unsupervised_processed[col] = df_unsupervised_processed[col].astype('int32')\n",
    "\n",
    "final_memory_usage = df_unsupervised_processed.memory_usage(deep=True).sum() / (1024**2) # MB\n",
    "print(f\"Ukuran memori akhir DataFrame: {final_memory_usage:.2f} MB\")\n",
    "print(f\"Penghematan memori: {((initial_memory_usage - final_memory_usage) / initial_memory_usage) * 100:.2f}%\")"
   ]
  },
  {
   "cell_type": "markdown",
   "id": "3ff216f8",
   "metadata": {},
   "source": [
    "# Simpan Data"
   ]
  },
  {
   "cell_type": "code",
   "execution_count": 23,
   "id": "6b72b299",
   "metadata": {},
   "outputs": [
    {
     "name": "stdout",
     "output_type": "stream",
     "text": [
      "Menyimpan data yang telah diproses ke: ../data/unsupervised_ready_data.csv (CSV)\n"
     ]
    },
    {
     "name": "stdout",
     "output_type": "stream",
     "text": [
      "Ukuran data yang disimpan (CSV): (558837, 40)\n",
      "\n",
      "Contoh data yang telah diproses (5 baris pertama):\n"
     ]
    },
    {
     "data": {
      "text/html": [
       "<div>\n",
       "<style scoped>\n",
       "    .dataframe tbody tr th:only-of-type {\n",
       "        vertical-align: middle;\n",
       "    }\n",
       "\n",
       "    .dataframe tbody tr th {\n",
       "        vertical-align: top;\n",
       "    }\n",
       "\n",
       "    .dataframe thead th {\n",
       "        text-align: right;\n",
       "    }\n",
       "</style>\n",
       "<table border=\"1\" class=\"dataframe\">\n",
       "  <thead>\n",
       "    <tr style=\"text-align: right;\">\n",
       "      <th></th>\n",
       "      <th>mmr</th>\n",
       "      <th>sellingprice</th>\n",
       "      <th>year</th>\n",
       "      <th>odometer</th>\n",
       "      <th>condition</th>\n",
       "      <th>body_Coupe</th>\n",
       "      <th>body_Crew Cab</th>\n",
       "      <th>body_Hatchback</th>\n",
       "      <th>body_Minivan</th>\n",
       "      <th>body_Other_body</th>\n",
       "      <th>...</th>\n",
       "      <th>make_Lincoln</th>\n",
       "      <th>make_Mazda</th>\n",
       "      <th>make_Mercedes-Benz</th>\n",
       "      <th>make_Nissan</th>\n",
       "      <th>make_Other_make</th>\n",
       "      <th>make_Pontiac</th>\n",
       "      <th>make_Ram</th>\n",
       "      <th>make_Subaru</th>\n",
       "      <th>make_Toyota</th>\n",
       "      <th>make_Volkswagen</th>\n",
       "    </tr>\n",
       "  </thead>\n",
       "  <tbody>\n",
       "    <tr>\n",
       "      <th>0</th>\n",
       "      <td>0.695349</td>\n",
       "      <td>0.809145</td>\n",
       "      <td>1.250630</td>\n",
       "      <td>-0.967860</td>\n",
       "      <td>-1.940793</td>\n",
       "      <td>0.0</td>\n",
       "      <td>0.0</td>\n",
       "      <td>0.0</td>\n",
       "      <td>0.0</td>\n",
       "      <td>0.0</td>\n",
       "      <td>...</td>\n",
       "      <td>0.0</td>\n",
       "      <td>0.0</td>\n",
       "      <td>0.0</td>\n",
       "      <td>0.0</td>\n",
       "      <td>0.0</td>\n",
       "      <td>0.0</td>\n",
       "      <td>0.0</td>\n",
       "      <td>0.0</td>\n",
       "      <td>0.0</td>\n",
       "      <td>0.0</td>\n",
       "    </tr>\n",
       "    <tr>\n",
       "      <th>1</th>\n",
       "      <td>0.726342</td>\n",
       "      <td>0.809145</td>\n",
       "      <td>1.250630</td>\n",
       "      <td>-1.103567</td>\n",
       "      <td>-1.940793</td>\n",
       "      <td>0.0</td>\n",
       "      <td>0.0</td>\n",
       "      <td>0.0</td>\n",
       "      <td>0.0</td>\n",
       "      <td>0.0</td>\n",
       "      <td>...</td>\n",
       "      <td>0.0</td>\n",
       "      <td>0.0</td>\n",
       "      <td>0.0</td>\n",
       "      <td>0.0</td>\n",
       "      <td>0.0</td>\n",
       "      <td>0.0</td>\n",
       "      <td>0.0</td>\n",
       "      <td>0.0</td>\n",
       "      <td>0.0</td>\n",
       "      <td>0.0</td>\n",
       "    </tr>\n",
       "    <tr>\n",
       "      <th>2</th>\n",
       "      <td>1.873079</td>\n",
       "      <td>1.680995</td>\n",
       "      <td>0.998541</td>\n",
       "      <td>-1.254557</td>\n",
       "      <td>1.072405</td>\n",
       "      <td>0.0</td>\n",
       "      <td>0.0</td>\n",
       "      <td>0.0</td>\n",
       "      <td>0.0</td>\n",
       "      <td>0.0</td>\n",
       "      <td>...</td>\n",
       "      <td>0.0</td>\n",
       "      <td>0.0</td>\n",
       "      <td>0.0</td>\n",
       "      <td>0.0</td>\n",
       "      <td>0.0</td>\n",
       "      <td>0.0</td>\n",
       "      <td>0.0</td>\n",
       "      <td>0.0</td>\n",
       "      <td>0.0</td>\n",
       "      <td>0.0</td>\n",
       "    </tr>\n",
       "    <tr>\n",
       "      <th>3</th>\n",
       "      <td>1.418517</td>\n",
       "      <td>1.450211</td>\n",
       "      <td>1.250630</td>\n",
       "      <td>-1.012003</td>\n",
       "      <td>0.771085</td>\n",
       "      <td>0.0</td>\n",
       "      <td>0.0</td>\n",
       "      <td>0.0</td>\n",
       "      <td>0.0</td>\n",
       "      <td>0.0</td>\n",
       "      <td>...</td>\n",
       "      <td>0.0</td>\n",
       "      <td>0.0</td>\n",
       "      <td>0.0</td>\n",
       "      <td>0.0</td>\n",
       "      <td>1.0</td>\n",
       "      <td>0.0</td>\n",
       "      <td>0.0</td>\n",
       "      <td>0.0</td>\n",
       "      <td>0.0</td>\n",
       "      <td>0.0</td>\n",
       "    </tr>\n",
       "    <tr>\n",
       "      <th>4</th>\n",
       "      <td>5.395938</td>\n",
       "      <td>5.476104</td>\n",
       "      <td>0.998541</td>\n",
       "      <td>-1.230022</td>\n",
       "      <td>0.921745</td>\n",
       "      <td>0.0</td>\n",
       "      <td>0.0</td>\n",
       "      <td>0.0</td>\n",
       "      <td>0.0</td>\n",
       "      <td>0.0</td>\n",
       "      <td>...</td>\n",
       "      <td>0.0</td>\n",
       "      <td>0.0</td>\n",
       "      <td>0.0</td>\n",
       "      <td>0.0</td>\n",
       "      <td>0.0</td>\n",
       "      <td>0.0</td>\n",
       "      <td>0.0</td>\n",
       "      <td>0.0</td>\n",
       "      <td>0.0</td>\n",
       "      <td>0.0</td>\n",
       "    </tr>\n",
       "  </tbody>\n",
       "</table>\n",
       "<p>5 rows × 40 columns</p>\n",
       "</div>"
      ],
      "text/plain": [
       "        mmr  sellingprice      year  odometer  condition  body_Coupe  \\\n",
       "0  0.695349      0.809145  1.250630 -0.967860  -1.940793         0.0   \n",
       "1  0.726342      0.809145  1.250630 -1.103567  -1.940793         0.0   \n",
       "2  1.873079      1.680995  0.998541 -1.254557   1.072405         0.0   \n",
       "3  1.418517      1.450211  1.250630 -1.012003   0.771085         0.0   \n",
       "4  5.395938      5.476104  0.998541 -1.230022   0.921745         0.0   \n",
       "\n",
       "   body_Crew Cab  body_Hatchback  body_Minivan  body_Other_body  ...  \\\n",
       "0            0.0             0.0           0.0              0.0  ...   \n",
       "1            0.0             0.0           0.0              0.0  ...   \n",
       "2            0.0             0.0           0.0              0.0  ...   \n",
       "3            0.0             0.0           0.0              0.0  ...   \n",
       "4            0.0             0.0           0.0              0.0  ...   \n",
       "\n",
       "   make_Lincoln  make_Mazda  make_Mercedes-Benz  make_Nissan  make_Other_make  \\\n",
       "0           0.0         0.0                 0.0          0.0              0.0   \n",
       "1           0.0         0.0                 0.0          0.0              0.0   \n",
       "2           0.0         0.0                 0.0          0.0              0.0   \n",
       "3           0.0         0.0                 0.0          0.0              1.0   \n",
       "4           0.0         0.0                 0.0          0.0              0.0   \n",
       "\n",
       "   make_Pontiac  make_Ram  make_Subaru  make_Toyota  make_Volkswagen  \n",
       "0           0.0       0.0          0.0          0.0              0.0  \n",
       "1           0.0       0.0          0.0          0.0              0.0  \n",
       "2           0.0       0.0          0.0          0.0              0.0  \n",
       "3           0.0       0.0          0.0          0.0              0.0  \n",
       "4           0.0       0.0          0.0          0.0              0.0  \n",
       "\n",
       "[5 rows x 40 columns]"
      ]
     },
     "execution_count": 23,
     "metadata": {},
     "output_type": "execute_result"
    }
   ],
   "source": [
    "# --- Simpan Data yang Siap Digunakan (CSV) ---\n",
    "print(f\"Menyimpan data yang telah diproses ke: {output_csv_unsupervised} (CSV)\")\n",
    "df_unsupervised_processed.to_csv(output_csv_unsupervised, index=False)\n",
    "print(f\"Ukuran data yang disimpan (CSV): {df_unsupervised_processed.shape}\")\n",
    "\n",
    "# Tampilkan beberapa baris pertama untuk konfirmasi\n",
    "print(\"\\nContoh data yang telah diproses (5 baris pertama):\")\n",
    "df_unsupervised_processed.head()"
   ]
  },
  {
   "cell_type": "markdown",
   "id": "4e17b9c1",
   "metadata": {},
   "source": [
    "# Simpan Preprocessor dan Label Encoders (PKL)"
   ]
  },
  {
   "cell_type": "code",
   "execution_count": null,
   "id": "106395ec",
   "metadata": {},
   "outputs": [
    {
     "name": "stdout",
     "output_type": "stream",
     "text": [
      "Menyimpan objek preprocessor unsupervised ke: ../models/preprocessor_unsupervised.pkl\n",
      "Preprocessor Unsupervised berhasil disimpan.\n"
     ]
    }
   ],
   "source": [
    "unsupervised_preprocessing_objects = {\n",
    "    'preprocessor': preprocessor_unsupervised,\n",
    "    'processed_feature_names': processed_unsupervised_feature_names\n",
    "}\n",
    "\n",
    "print(f\"Menyimpan objek preprocessor unsupervised ke: {preprocessor_output_path_unsupervised}\")\n",
    "joblib.dump(unsupervised_preprocessing_objects, preprocessor_output_path_unsupervised)\n",
    "print(\"Preprocessor Unsupervised berhasil disimpan.\")"
   ]
  }
 ],
 "metadata": {
  "kernelspec": {
   "display_name": "Python 3",
   "language": "python",
   "name": "python3"
  },
  "language_info": {
   "codemirror_mode": {
    "name": "ipython",
    "version": 3
   },
   "file_extension": ".py",
   "mimetype": "text/x-python",
   "name": "python",
   "nbconvert_exporter": "python",
   "pygments_lexer": "ipython3",
   "version": "3.13.1"
  }
 },
 "nbformat": 4,
 "nbformat_minor": 5
}
