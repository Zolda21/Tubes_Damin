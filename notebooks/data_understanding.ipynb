{
 "cells": [
  {
   "cell_type": "markdown",
   "id": "3de230b1",
   "metadata": {},
   "source": [
    "# Import Library"
   ]
  },
  {
   "cell_type": "code",
   "execution_count": 1,
   "id": "cc592cee",
   "metadata": {},
   "outputs": [],
   "source": [
    "import pandas as pd"
   ]
  },
  {
   "cell_type": "markdown",
   "id": "7fe1f28b",
   "metadata": {},
   "source": [
    "# Load Dataset"
   ]
  },
  {
   "cell_type": "code",
   "execution_count": 3,
   "id": "5caa062e",
   "metadata": {},
   "outputs": [],
   "source": [
    "df = pd.read_csv('../data/car_prices.csv')"
   ]
  },
  {
   "cell_type": "markdown",
   "id": "aaa9167d",
   "metadata": {},
   "source": [
    "# Dataset Preview"
   ]
  },
  {
   "cell_type": "code",
   "execution_count": 4,
   "id": "32eddbbf",
   "metadata": {},
   "outputs": [
    {
     "data": {
      "text/html": [
       "<div>\n",
       "<style scoped>\n",
       "    .dataframe tbody tr th:only-of-type {\n",
       "        vertical-align: middle;\n",
       "    }\n",
       "\n",
       "    .dataframe tbody tr th {\n",
       "        vertical-align: top;\n",
       "    }\n",
       "\n",
       "    .dataframe thead th {\n",
       "        text-align: right;\n",
       "    }\n",
       "</style>\n",
       "<table border=\"1\" class=\"dataframe\">\n",
       "  <thead>\n",
       "    <tr style=\"text-align: right;\">\n",
       "      <th></th>\n",
       "      <th>year</th>\n",
       "      <th>make</th>\n",
       "      <th>model</th>\n",
       "      <th>trim</th>\n",
       "      <th>body</th>\n",
       "      <th>transmission</th>\n",
       "      <th>vin</th>\n",
       "      <th>state</th>\n",
       "      <th>condition</th>\n",
       "      <th>odometer</th>\n",
       "      <th>color</th>\n",
       "      <th>interior</th>\n",
       "      <th>seller</th>\n",
       "      <th>mmr</th>\n",
       "      <th>sellingprice</th>\n",
       "      <th>saledate</th>\n",
       "    </tr>\n",
       "  </thead>\n",
       "  <tbody>\n",
       "    <tr>\n",
       "      <th>0</th>\n",
       "      <td>2015</td>\n",
       "      <td>Kia</td>\n",
       "      <td>Sorento</td>\n",
       "      <td>LX</td>\n",
       "      <td>SUV</td>\n",
       "      <td>automatic</td>\n",
       "      <td>5xyktca69fg566472</td>\n",
       "      <td>ca</td>\n",
       "      <td>5.0</td>\n",
       "      <td>16639.0</td>\n",
       "      <td>white</td>\n",
       "      <td>black</td>\n",
       "      <td>kia motors america  inc</td>\n",
       "      <td>20500.0</td>\n",
       "      <td>21500.0</td>\n",
       "      <td>Tue Dec 16 2014 12:30:00 GMT-0800 (PST)</td>\n",
       "    </tr>\n",
       "    <tr>\n",
       "      <th>1</th>\n",
       "      <td>2015</td>\n",
       "      <td>Kia</td>\n",
       "      <td>Sorento</td>\n",
       "      <td>LX</td>\n",
       "      <td>SUV</td>\n",
       "      <td>automatic</td>\n",
       "      <td>5xyktca69fg561319</td>\n",
       "      <td>ca</td>\n",
       "      <td>5.0</td>\n",
       "      <td>9393.0</td>\n",
       "      <td>white</td>\n",
       "      <td>beige</td>\n",
       "      <td>kia motors america  inc</td>\n",
       "      <td>20800.0</td>\n",
       "      <td>21500.0</td>\n",
       "      <td>Tue Dec 16 2014 12:30:00 GMT-0800 (PST)</td>\n",
       "    </tr>\n",
       "    <tr>\n",
       "      <th>2</th>\n",
       "      <td>2014</td>\n",
       "      <td>BMW</td>\n",
       "      <td>3 Series</td>\n",
       "      <td>328i SULEV</td>\n",
       "      <td>Sedan</td>\n",
       "      <td>automatic</td>\n",
       "      <td>wba3c1c51ek116351</td>\n",
       "      <td>ca</td>\n",
       "      <td>45.0</td>\n",
       "      <td>1331.0</td>\n",
       "      <td>gray</td>\n",
       "      <td>black</td>\n",
       "      <td>financial services remarketing (lease)</td>\n",
       "      <td>31900.0</td>\n",
       "      <td>30000.0</td>\n",
       "      <td>Thu Jan 15 2015 04:30:00 GMT-0800 (PST)</td>\n",
       "    </tr>\n",
       "    <tr>\n",
       "      <th>3</th>\n",
       "      <td>2015</td>\n",
       "      <td>Volvo</td>\n",
       "      <td>S60</td>\n",
       "      <td>T5</td>\n",
       "      <td>Sedan</td>\n",
       "      <td>automatic</td>\n",
       "      <td>yv1612tb4f1310987</td>\n",
       "      <td>ca</td>\n",
       "      <td>41.0</td>\n",
       "      <td>14282.0</td>\n",
       "      <td>white</td>\n",
       "      <td>black</td>\n",
       "      <td>volvo na rep/world omni</td>\n",
       "      <td>27500.0</td>\n",
       "      <td>27750.0</td>\n",
       "      <td>Thu Jan 29 2015 04:30:00 GMT-0800 (PST)</td>\n",
       "    </tr>\n",
       "    <tr>\n",
       "      <th>4</th>\n",
       "      <td>2014</td>\n",
       "      <td>BMW</td>\n",
       "      <td>6 Series Gran Coupe</td>\n",
       "      <td>650i</td>\n",
       "      <td>Sedan</td>\n",
       "      <td>automatic</td>\n",
       "      <td>wba6b2c57ed129731</td>\n",
       "      <td>ca</td>\n",
       "      <td>43.0</td>\n",
       "      <td>2641.0</td>\n",
       "      <td>gray</td>\n",
       "      <td>black</td>\n",
       "      <td>financial services remarketing (lease)</td>\n",
       "      <td>66000.0</td>\n",
       "      <td>67000.0</td>\n",
       "      <td>Thu Dec 18 2014 12:30:00 GMT-0800 (PST)</td>\n",
       "    </tr>\n",
       "  </tbody>\n",
       "</table>\n",
       "</div>"
      ],
      "text/plain": [
       "   year   make                model        trim   body transmission  \\\n",
       "0  2015    Kia              Sorento          LX    SUV    automatic   \n",
       "1  2015    Kia              Sorento          LX    SUV    automatic   \n",
       "2  2014    BMW             3 Series  328i SULEV  Sedan    automatic   \n",
       "3  2015  Volvo                  S60          T5  Sedan    automatic   \n",
       "4  2014    BMW  6 Series Gran Coupe        650i  Sedan    automatic   \n",
       "\n",
       "                 vin state  condition  odometer  color interior  \\\n",
       "0  5xyktca69fg566472    ca        5.0   16639.0  white    black   \n",
       "1  5xyktca69fg561319    ca        5.0    9393.0  white    beige   \n",
       "2  wba3c1c51ek116351    ca       45.0    1331.0   gray    black   \n",
       "3  yv1612tb4f1310987    ca       41.0   14282.0  white    black   \n",
       "4  wba6b2c57ed129731    ca       43.0    2641.0   gray    black   \n",
       "\n",
       "                                   seller      mmr  sellingprice  \\\n",
       "0                 kia motors america  inc  20500.0       21500.0   \n",
       "1                 kia motors america  inc  20800.0       21500.0   \n",
       "2  financial services remarketing (lease)  31900.0       30000.0   \n",
       "3                 volvo na rep/world omni  27500.0       27750.0   \n",
       "4  financial services remarketing (lease)  66000.0       67000.0   \n",
       "\n",
       "                                  saledate  \n",
       "0  Tue Dec 16 2014 12:30:00 GMT-0800 (PST)  \n",
       "1  Tue Dec 16 2014 12:30:00 GMT-0800 (PST)  \n",
       "2  Thu Jan 15 2015 04:30:00 GMT-0800 (PST)  \n",
       "3  Thu Jan 29 2015 04:30:00 GMT-0800 (PST)  \n",
       "4  Thu Dec 18 2014 12:30:00 GMT-0800 (PST)  "
      ]
     },
     "execution_count": 4,
     "metadata": {},
     "output_type": "execute_result"
    }
   ],
   "source": [
    "df.head()"
   ]
  },
  {
   "cell_type": "markdown",
   "id": "b1093fb6",
   "metadata": {},
   "source": [
    "# Shape of Dataset"
   ]
  },
  {
   "cell_type": "code",
   "execution_count": 6,
   "id": "b1c29d99",
   "metadata": {},
   "outputs": [
    {
     "name": "stdout",
     "output_type": "stream",
     "text": [
      "Jumlah Baris dan Kolom:\n",
      "(558837, 16)\n"
     ]
    }
   ],
   "source": [
    "print(\"Jumlah Baris dan Kolom:\")\n",
    "print(df.shape)"
   ]
  },
  {
   "cell_type": "markdown",
   "id": "bcbf710d",
   "metadata": {},
   "source": [
    "# Data Types"
   ]
  },
  {
   "cell_type": "code",
   "execution_count": 10,
   "id": "a1489b15",
   "metadata": {},
   "outputs": [
    {
     "name": "stdout",
     "output_type": "stream",
     "text": [
      "Kolom numerik: 5\n",
      "Kolom kategorikal: 11\n"
     ]
    }
   ],
   "source": [
    "num_cols = len(df.select_dtypes(include=['int64', 'float64']).columns)\n",
    "cat_cols = len(df.select_dtypes(include=['object']).columns)\n",
    "\n",
    "print(\"Kolom numerik:\", num_cols)\n",
    "print(\"Kolom kategorikal:\", cat_cols)"
   ]
  },
  {
   "cell_type": "markdown",
   "id": "2e99f73b",
   "metadata": {},
   "source": [
    "# Nama Kolom & Jumlah Nilai Unik"
   ]
  },
  {
   "cell_type": "code",
   "execution_count": 12,
   "id": "4a61a788",
   "metadata": {},
   "outputs": [
    {
     "name": "stdout",
     "output_type": "stream",
     "text": [
      "           Kolom Tipe Data  Jumlah Nilai Unik\n",
      "0           year     int64                 34\n",
      "1           make    object                 96\n",
      "2          model    object                973\n",
      "3           trim    object               1963\n",
      "4           body    object                 87\n",
      "5   transmission    object                  4\n",
      "6            vin    object             550297\n",
      "7          state    object                 64\n",
      "8      condition   float64                 41\n",
      "9       odometer   float64             172278\n",
      "10         color    object                 46\n",
      "11      interior    object                 17\n",
      "12        seller    object              14263\n",
      "13           mmr   float64               1101\n",
      "14  sellingprice   float64               1887\n",
      "15      saledate    object               3766\n"
     ]
    }
   ],
   "source": [
    "unique_vals = pd.DataFrame({\n",
    "        'Kolom': df.columns,\n",
    "        'Tipe Data': df.dtypes.values,\n",
    "        'Jumlah Nilai Unik': df.nunique().values\n",
    "    })\n",
    "\n",
    "print(unique_vals)"
   ]
  },
  {
   "cell_type": "markdown",
   "id": "cda0b3da",
   "metadata": {},
   "source": [
    "# Missing Values"
   ]
  },
  {
   "cell_type": "code",
   "execution_count": 14,
   "id": "6dda39fb",
   "metadata": {},
   "outputs": [
    {
     "name": "stdout",
     "output_type": "stream",
     "text": [
      "      Nama Kolom  Jumlah Nilai Hilang\n",
      "0   transmission                65352\n",
      "1           body                13195\n",
      "2      condition                11820\n",
      "3           trim                10651\n",
      "4          model                10399\n",
      "5           make                10301\n",
      "6          color                  749\n",
      "7       interior                  749\n",
      "8       odometer                   94\n",
      "9            mmr                   38\n",
      "10  sellingprice                   12\n",
      "11      saledate                   12\n",
      "12           vin                    4\n"
     ]
    }
   ],
   "source": [
    "missing = df.isnull().sum()\n",
    "missing = missing[missing > 0].sort_values(ascending=False)\n",
    "\n",
    "if not missing.empty:\n",
    "    missing_df = pd.DataFrame({\n",
    "        \"Nama Kolom\": missing.index,\n",
    "        \"Jumlah Nilai Hilang\": missing.values\n",
    "    })\n",
    "    print(missing_df)\n",
    "else:\n",
    "    print(\"Tidak terdapat nilai yang hilang dalam dataset.\")"
   ]
  },
  {
   "cell_type": "markdown",
   "id": "2e71e1e4",
   "metadata": {},
   "source": [
    "# Duplicate Rows"
   ]
  },
  {
   "cell_type": "code",
   "execution_count": 15,
   "id": "1f21d7dc",
   "metadata": {},
   "outputs": [
    {
     "name": "stdout",
     "output_type": "stream",
     "text": [
      "Jumlah baris duplikat dalam dataset: 0\n"
     ]
    }
   ],
   "source": [
    "dup_count = df.duplicated().sum()\n",
    "print(\"Jumlah baris duplikat dalam dataset:\", dup_count)"
   ]
  },
  {
   "cell_type": "markdown",
   "id": "bc652cfa",
   "metadata": {},
   "source": [
    "# Statistik Numerik"
   ]
  },
  {
   "cell_type": "code",
   "execution_count": 16,
   "id": "bebd31b7",
   "metadata": {},
   "outputs": [
    {
     "data": {
      "text/html": [
       "<div>\n",
       "<style scoped>\n",
       "    .dataframe tbody tr th:only-of-type {\n",
       "        vertical-align: middle;\n",
       "    }\n",
       "\n",
       "    .dataframe tbody tr th {\n",
       "        vertical-align: top;\n",
       "    }\n",
       "\n",
       "    .dataframe thead th {\n",
       "        text-align: right;\n",
       "    }\n",
       "</style>\n",
       "<table border=\"1\" class=\"dataframe\">\n",
       "  <thead>\n",
       "    <tr style=\"text-align: right;\">\n",
       "      <th></th>\n",
       "      <th>year</th>\n",
       "      <th>condition</th>\n",
       "      <th>odometer</th>\n",
       "      <th>mmr</th>\n",
       "      <th>sellingprice</th>\n",
       "    </tr>\n",
       "  </thead>\n",
       "  <tbody>\n",
       "    <tr>\n",
       "      <th>count</th>\n",
       "      <td>558837.000000</td>\n",
       "      <td>547017.000000</td>\n",
       "      <td>558743.000000</td>\n",
       "      <td>558799.000000</td>\n",
       "      <td>558825.000000</td>\n",
       "    </tr>\n",
       "    <tr>\n",
       "      <th>mean</th>\n",
       "      <td>2010.038927</td>\n",
       "      <td>30.672365</td>\n",
       "      <td>68320.017767</td>\n",
       "      <td>13769.377495</td>\n",
       "      <td>13611.358810</td>\n",
       "    </tr>\n",
       "    <tr>\n",
       "      <th>std</th>\n",
       "      <td>3.966864</td>\n",
       "      <td>13.402832</td>\n",
       "      <td>53398.542821</td>\n",
       "      <td>9679.967174</td>\n",
       "      <td>9749.501628</td>\n",
       "    </tr>\n",
       "    <tr>\n",
       "      <th>min</th>\n",
       "      <td>1982.000000</td>\n",
       "      <td>1.000000</td>\n",
       "      <td>1.000000</td>\n",
       "      <td>25.000000</td>\n",
       "      <td>1.000000</td>\n",
       "    </tr>\n",
       "    <tr>\n",
       "      <th>25%</th>\n",
       "      <td>2007.000000</td>\n",
       "      <td>23.000000</td>\n",
       "      <td>28371.000000</td>\n",
       "      <td>7100.000000</td>\n",
       "      <td>6900.000000</td>\n",
       "    </tr>\n",
       "    <tr>\n",
       "      <th>50%</th>\n",
       "      <td>2012.000000</td>\n",
       "      <td>35.000000</td>\n",
       "      <td>52254.000000</td>\n",
       "      <td>12250.000000</td>\n",
       "      <td>12100.000000</td>\n",
       "    </tr>\n",
       "    <tr>\n",
       "      <th>75%</th>\n",
       "      <td>2013.000000</td>\n",
       "      <td>42.000000</td>\n",
       "      <td>99109.000000</td>\n",
       "      <td>18300.000000</td>\n",
       "      <td>18200.000000</td>\n",
       "    </tr>\n",
       "    <tr>\n",
       "      <th>max</th>\n",
       "      <td>2015.000000</td>\n",
       "      <td>49.000000</td>\n",
       "      <td>999999.000000</td>\n",
       "      <td>182000.000000</td>\n",
       "      <td>230000.000000</td>\n",
       "    </tr>\n",
       "  </tbody>\n",
       "</table>\n",
       "</div>"
      ],
      "text/plain": [
       "                year      condition       odometer            mmr  \\\n",
       "count  558837.000000  547017.000000  558743.000000  558799.000000   \n",
       "mean     2010.038927      30.672365   68320.017767   13769.377495   \n",
       "std         3.966864      13.402832   53398.542821    9679.967174   \n",
       "min      1982.000000       1.000000       1.000000      25.000000   \n",
       "25%      2007.000000      23.000000   28371.000000    7100.000000   \n",
       "50%      2012.000000      35.000000   52254.000000   12250.000000   \n",
       "75%      2013.000000      42.000000   99109.000000   18300.000000   \n",
       "max      2015.000000      49.000000  999999.000000  182000.000000   \n",
       "\n",
       "        sellingprice  \n",
       "count  558825.000000  \n",
       "mean    13611.358810  \n",
       "std      9749.501628  \n",
       "min         1.000000  \n",
       "25%      6900.000000  \n",
       "50%     12100.000000  \n",
       "75%     18200.000000  \n",
       "max    230000.000000  "
      ]
     },
     "execution_count": 16,
     "metadata": {},
     "output_type": "execute_result"
    }
   ],
   "source": [
    "df.describe()"
   ]
  },
  {
   "cell_type": "markdown",
   "id": "e711ee9e",
   "metadata": {},
   "source": [
    "# Statistik Kategorikal"
   ]
  },
  {
   "cell_type": "code",
   "execution_count": 17,
   "id": "aebc4574",
   "metadata": {},
   "outputs": [
    {
     "data": {
      "text/html": [
       "<div>\n",
       "<style scoped>\n",
       "    .dataframe tbody tr th:only-of-type {\n",
       "        vertical-align: middle;\n",
       "    }\n",
       "\n",
       "    .dataframe tbody tr th {\n",
       "        vertical-align: top;\n",
       "    }\n",
       "\n",
       "    .dataframe thead th {\n",
       "        text-align: right;\n",
       "    }\n",
       "</style>\n",
       "<table border=\"1\" class=\"dataframe\">\n",
       "  <thead>\n",
       "    <tr style=\"text-align: right;\">\n",
       "      <th></th>\n",
       "      <th>make</th>\n",
       "      <th>model</th>\n",
       "      <th>trim</th>\n",
       "      <th>body</th>\n",
       "      <th>transmission</th>\n",
       "      <th>vin</th>\n",
       "      <th>state</th>\n",
       "      <th>color</th>\n",
       "      <th>interior</th>\n",
       "      <th>seller</th>\n",
       "      <th>saledate</th>\n",
       "    </tr>\n",
       "  </thead>\n",
       "  <tbody>\n",
       "    <tr>\n",
       "      <th>count</th>\n",
       "      <td>548536</td>\n",
       "      <td>548438</td>\n",
       "      <td>548186</td>\n",
       "      <td>545642</td>\n",
       "      <td>493485</td>\n",
       "      <td>558833</td>\n",
       "      <td>558837</td>\n",
       "      <td>558088</td>\n",
       "      <td>558088</td>\n",
       "      <td>558837</td>\n",
       "      <td>558825</td>\n",
       "    </tr>\n",
       "    <tr>\n",
       "      <th>unique</th>\n",
       "      <td>96</td>\n",
       "      <td>973</td>\n",
       "      <td>1963</td>\n",
       "      <td>87</td>\n",
       "      <td>4</td>\n",
       "      <td>550297</td>\n",
       "      <td>64</td>\n",
       "      <td>46</td>\n",
       "      <td>17</td>\n",
       "      <td>14263</td>\n",
       "      <td>3766</td>\n",
       "    </tr>\n",
       "    <tr>\n",
       "      <th>top</th>\n",
       "      <td>Ford</td>\n",
       "      <td>Altima</td>\n",
       "      <td>Base</td>\n",
       "      <td>Sedan</td>\n",
       "      <td>automatic</td>\n",
       "      <td>automatic</td>\n",
       "      <td>fl</td>\n",
       "      <td>black</td>\n",
       "      <td>black</td>\n",
       "      <td>nissan-infiniti lt</td>\n",
       "      <td>Tue Feb 10 2015 01:30:00 GMT-0800 (PST)</td>\n",
       "    </tr>\n",
       "    <tr>\n",
       "      <th>freq</th>\n",
       "      <td>93554</td>\n",
       "      <td>19349</td>\n",
       "      <td>55817</td>\n",
       "      <td>199437</td>\n",
       "      <td>475915</td>\n",
       "      <td>22</td>\n",
       "      <td>82945</td>\n",
       "      <td>110970</td>\n",
       "      <td>244329</td>\n",
       "      <td>19693</td>\n",
       "      <td>5334</td>\n",
       "    </tr>\n",
       "  </tbody>\n",
       "</table>\n",
       "</div>"
      ],
      "text/plain": [
       "          make   model    trim    body transmission        vin   state  \\\n",
       "count   548536  548438  548186  545642       493485     558833  558837   \n",
       "unique      96     973    1963      87            4     550297      64   \n",
       "top       Ford  Altima    Base   Sedan    automatic  automatic      fl   \n",
       "freq     93554   19349   55817  199437       475915         22   82945   \n",
       "\n",
       "         color interior              seller  \\\n",
       "count   558088   558088              558837   \n",
       "unique      46       17               14263   \n",
       "top      black    black  nissan-infiniti lt   \n",
       "freq    110970   244329               19693   \n",
       "\n",
       "                                       saledate  \n",
       "count                                    558825  \n",
       "unique                                     3766  \n",
       "top     Tue Feb 10 2015 01:30:00 GMT-0800 (PST)  \n",
       "freq                                       5334  "
      ]
     },
     "execution_count": 17,
     "metadata": {},
     "output_type": "execute_result"
    }
   ],
   "source": [
    "df.describe(include='object')"
   ]
  },
  {
   "cell_type": "markdown",
   "id": "65bd6e89",
   "metadata": {},
   "source": [
    "# Korelasi Antar Kolom Numerik"
   ]
  },
  {
   "cell_type": "code",
   "execution_count": 18,
   "id": "1029591a",
   "metadata": {},
   "outputs": [
    {
     "name": "stdout",
     "output_type": "stream",
     "text": [
      "                  year  condition  odometer       mmr  sellingprice\n",
      "year          1.000000   0.340320 -0.772737  0.596631      0.586480\n",
      "condition     0.340320   1.000000 -0.318188  0.281415      0.321944\n",
      "odometer     -0.772737  -0.318188  1.000000 -0.588113     -0.582393\n",
      "mmr           0.596631   0.281415 -0.588113  1.000000      0.983635\n",
      "sellingprice  0.586480   0.321944 -0.582393  0.983635      1.000000\n"
     ]
    }
   ],
   "source": [
    "corr = df.select_dtypes(include=['int64', 'float64']).corr()\n",
    "print(corr)"
   ]
  }
 ],
 "metadata": {
  "kernelspec": {
   "display_name": "Python 3",
   "language": "python",
   "name": "python3"
  },
  "language_info": {
   "codemirror_mode": {
    "name": "ipython",
    "version": 3
   },
   "file_extension": ".py",
   "mimetype": "text/x-python",
   "name": "python",
   "nbconvert_exporter": "python",
   "pygments_lexer": "ipython3",
   "version": "3.13.3"
  }
 },
 "nbformat": 4,
 "nbformat_minor": 5
}
