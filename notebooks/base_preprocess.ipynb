{
 "cells": [
  {
   "cell_type": "markdown",
   "id": "c57303d8",
   "metadata": {},
   "source": [
    "# Import Library"
   ]
  },
  {
   "cell_type": "code",
   "execution_count": 1,
   "id": "1436d793",
   "metadata": {},
   "outputs": [],
   "source": [
    "import pandas as pd\n",
    "import numpy as np\n",
    "from sklearn.impute import SimpleImputer"
   ]
  },
  {
   "cell_type": "markdown",
   "id": "b20c9ad9",
   "metadata": {},
   "source": [
    "# Load Dataset"
   ]
  },
  {
   "cell_type": "code",
   "execution_count": 2,
   "id": "3958bc7a",
   "metadata": {},
   "outputs": [
    {
     "name": "stdout",
     "output_type": "stream",
     "text": [
      "Dataset berhasil dimuat. Ukuran awal: (558837, 16)\n"
     ]
    }
   ],
   "source": [
    "try:\n",
    "    df = pd.read_csv('../data/car_prices.csv')\n",
    "    print(f\"Dataset berhasil dimuat. Ukuran awal: {df.shape}\")\n",
    "except FileNotFoundError:\n",
    "    print(\"Error: File 'car_prices.csv' tidak ditemukan. Pastikan nama file dan path sudah benar.\")"
   ]
  },
  {
   "cell_type": "markdown",
   "id": "1f098d70",
   "metadata": {},
   "source": [
    "# Hapus kolom yang tidak relevan"
   ]
  },
  {
   "cell_type": "code",
   "execution_count": 3,
   "id": "9849e9bd",
   "metadata": {},
   "outputs": [
    {
     "name": "stdout",
     "output_type": "stream",
     "text": [
      "Dataset setelah menghapus kolom 'vin' dan 'saledate': (558837, 14)\n"
     ]
    }
   ],
   "source": [
    "df_processed = df.drop(columns=['vin', 'saledate'])\n",
    "print(f\"Dataset setelah menghapus kolom 'vin' dan 'saledate': {df_processed.shape}\")"
   ]
  },
  {
   "cell_type": "markdown",
   "id": "7c46ef29",
   "metadata": {},
   "source": [
    "# Identifikasi kolom numerik dan kategorikal"
   ]
  },
  {
   "cell_type": "code",
   "execution_count": 4,
   "id": "0f1fcf2f",
   "metadata": {},
   "outputs": [
    {
     "name": "stdout",
     "output_type": "stream",
     "text": [
      "\n",
      "Kolom Numerik Awal: ['year', 'condition', 'odometer', 'mmr', 'sellingprice']\n",
      "Kolom Kategorikal Awal: ['make', 'model', 'trim', 'body', 'transmission', 'state', 'color', 'interior', 'seller']\n"
     ]
    }
   ],
   "source": [
    "numerical_cols = df_processed.select_dtypes(include=np.number).columns.tolist()\n",
    "categorical_cols = df_processed.select_dtypes(include='object').columns.tolist()\n",
    "\n",
    "print(f\"\\nKolom Numerik Awal: {numerical_cols}\")\n",
    "print(f\"Kolom Kategorikal Awal: {categorical_cols}\")"
   ]
  },
  {
   "cell_type": "markdown",
   "id": "0f9ecf13",
   "metadata": {},
   "source": [
    " # Imputasi nilai hilang"
   ]
  },
  {
   "cell_type": "code",
   "execution_count": 5,
   "id": "2b33c2bb",
   "metadata": {},
   "outputs": [],
   "source": [
    "numerical_imputer = SimpleImputer(strategy='median')\n",
    "categorical_imputer = SimpleImputer(strategy='most_frequent')"
   ]
  },
  {
   "cell_type": "markdown",
   "id": "2f11f72d",
   "metadata": {},
   "source": [
    "# Untuk kolom numerik"
   ]
  },
  {
   "cell_type": "code",
   "execution_count": 6,
   "id": "2e369f1c",
   "metadata": {},
   "outputs": [
    {
     "name": "stdout",
     "output_type": "stream",
     "text": [
      "  - Kolom 'condition' diimputasi dengan median.\n",
      "  - Kolom 'odometer' diimputasi dengan median.\n",
      "  - Kolom 'mmr' diimputasi dengan median.\n",
      "  - Kolom 'sellingprice' diimputasi dengan median.\n"
     ]
    }
   ],
   "source": [
    "for col in numerical_cols:\n",
    "    if df_processed[col].isnull().sum() > 0:\n",
    "        df_processed[col] = numerical_imputer.fit_transform(df_processed[[col]])\n",
    "        print(f\"  - Kolom '{col}' diimputasi dengan median.\")"
   ]
  },
  {
   "cell_type": "markdown",
   "id": "c0458579",
   "metadata": {},
   "source": [
    "# Untuk kolom kategorikal"
   ]
  },
  {
   "cell_type": "code",
   "execution_count": 7,
   "id": "22d60f0d",
   "metadata": {},
   "outputs": [
    {
     "name": "stdout",
     "output_type": "stream",
     "text": [
      "  - Kolom 'make' diimputasi dengan modus.\n",
      "  - Kolom 'model' diimputasi dengan modus.\n",
      "  - Kolom 'trim' diimputasi dengan modus.\n",
      "  - Kolom 'body' diimputasi dengan modus.\n",
      "  - Kolom 'transmission' diimputasi dengan modus.\n",
      "  - Kolom 'color' diimputasi dengan modus.\n",
      "  - Kolom 'interior' diimputasi dengan modus.\n"
     ]
    }
   ],
   "source": [
    "for col in categorical_cols:\n",
    "    if df_processed[col].isnull().sum() > 0:\n",
    "        df_processed[col] = categorical_imputer.fit_transform(df_processed[[col]]).flatten()\n",
    "        print(f\"  - Kolom '{col}' diimputasi dengan modus.\")"
   ]
  },
  {
   "cell_type": "code",
   "execution_count": 8,
   "id": "cffb369d",
   "metadata": {},
   "outputs": [
    {
     "name": "stdout",
     "output_type": "stream",
     "text": [
      "\n",
      "Jumlah nilai hilang setelah imputasi:\n",
      "year            0\n",
      "make            0\n",
      "model           0\n",
      "trim            0\n",
      "body            0\n",
      "transmission    0\n",
      "state           0\n",
      "condition       0\n",
      "odometer        0\n",
      "color           0\n",
      "interior        0\n",
      "seller          0\n",
      "mmr             0\n",
      "sellingprice    0\n",
      "dtype: int64\n"
     ]
    }
   ],
   "source": [
    "print(\"\\nJumlah nilai hilang setelah imputasi:\")\n",
    "print(df_processed.isnull().sum())"
   ]
  },
  {
   "cell_type": "markdown",
   "id": "34a57dbe",
   "metadata": {},
   "source": [
    "# Simpan hasil preprocessing dasar"
   ]
  },
  {
   "cell_type": "code",
   "execution_count": 13,
   "id": "83d0f16b",
   "metadata": {},
   "outputs": [
    {
     "name": "stdout",
     "output_type": "stream",
     "text": [
      "\n",
      "Preprocessing dasar selesai. Data disimpan ke '../data/base_processed_data.csv'\n",
      "Ukuran data yang disimpan: (558837, 14)\n"
     ]
    }
   ],
   "source": [
    "df_processed.to_csv('../data/base_processed_data.csv', index=False)\n",
    "print(f\"\\nPreprocessing dasar selesai. Data disimpan ke '{'../data/base_processed_data.csv'}'\")\n",
    "print(f\"Ukuran data yang disimpan: {df_processed.shape}\")"
   ]
  }
 ],
 "metadata": {
  "kernelspec": {
   "display_name": "Python 3",
   "language": "python",
   "name": "python3"
  },
  "language_info": {
   "codemirror_mode": {
    "name": "ipython",
    "version": 3
   },
   "file_extension": ".py",
   "mimetype": "text/x-python",
   "name": "python",
   "nbconvert_exporter": "python",
   "pygments_lexer": "ipython3",
   "version": "3.13.3"
  }
 },
 "nbformat": 4,
 "nbformat_minor": 5
}
